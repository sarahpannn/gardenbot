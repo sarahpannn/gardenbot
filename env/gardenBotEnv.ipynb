{
 "cells": [
  {
   "cell_type": "code",
   "execution_count": 31,
   "metadata": {},
   "outputs": [],
   "source": [
    "import gym\n",
    "import matplotlib.pyplot as plt\n",
    "from gym.wrappers import RecordVideo\n",
    "from gym import spaces\n",
    "import json\n",
    "import math"
   ]
  },
  {
   "cell_type": "code",
   "execution_count": null,
   "metadata": {},
   "outputs": [],
   "source": [
    "class GardenEnv(gym.Env):\n",
    "    def __init__(self, box_size, crop_data):\n",
    "        super().__init__()\n",
    "        self.t = 0\n",
    "        self.box_size = box_size\n",
    "        self.crop_data = crop_data\n",
    "        self.actions = ['plant', 'water', 'abstain', 'notify']\n",
    "        \n",
    "        with open('../data/render_colors.json') as json_file:\n",
    "            colors = json.load(json_file)\n",
    "        self.colors = colors\n",
    "        \n",
    "    def step(self, action):\n",
    "        self.t += 1\n",
    "        \"\"\" Takes a step with given action and returns the resulting environment.\n",
    "        Args:\n",
    "            action: int \n",
    "            \n",
    "        Returns:\n",
    "            env: state_dict: {\n",
    "                    plant1: [type, location, radius, water_status],\n",
    "                    plant2: [type, location, radius, water_status],\n",
    "                    ...\n",
    "                }\n",
    "        \"\"\"\n",
    "        return env\n",
    "    \n",
    "    def reset(self):\n",
    "        self.t = 0\n",
    "        return 0\n",
    "    \n",
    "    def render(self, mode='human', state):\n",
    "        if (mode=='human'):\n",
    "            human_render(state)\n",
    "        else:\n",
    "            return machine_render(state)\n",
    "            \n",
    "    def human_render(self, state):\n",
    "        fig, ax = plt.subplots()\n",
    "        ax.set_xlim = self.box_size[0]\n",
    "        ax.set_ylim = self.box_size[1]\n",
    "        for plant in state.keys():\n",
    "            ax.add_patch(plt.Circle(state[k][1], radius=state[k][2], color=self.colors[state[k][0]]))\n",
    "        fig.savefig(f'env_at_time_{self.t}.png')\n",
    "    \n",
    "    def machine_render(self, state):\n",
    "        return 0\n",
    "            "
   ]
  },
  {
   "cell_type": "code",
   "execution_count": 15,
   "metadata": {},
   "outputs": [],
   "source": [
    "# load crop data\n",
    "with open('../data/plant_data.json') as json_file:\n",
    "    plant_data = json.load(json_file)"
   ]
  },
  {
   "cell_type": "code",
   "execution_count": 14,
   "metadata": {},
   "outputs": [],
   "source": [
    "# load color data\n",
    "with open('../data/render_colors.json') as json_file:\n",
    "    colors = json.load(json_file)"
   ]
  },
  {
   "cell_type": "code",
   "execution_count": 18,
   "metadata": {},
   "outputs": [
    {
     "data": {
      "text/plain": [
       "[{'id': '2',\n",
       "  'name': 'bok_choy',\n",
       "  'days_to_mature': '50',\n",
       "  'mature_radius': '20',\n",
       "  'H_water_freq': '48'}]"
      ]
     },
     "execution_count": 18,
     "metadata": {},
     "output_type": "execute_result"
    }
   ],
   "source": [
    "plant_data['bok_choy']"
   ]
  },
  {
   "cell_type": "code",
   "execution_count": 64,
   "metadata": {},
   "outputs": [],
   "source": [
    "class Plant:\n",
    "    def __init__(self, species):\n",
    "        self.species = species\n",
    "        self.water_freq = int(plant_data[species][0]['H_water_freq'])\n",
    "        self.mature_radius = int(plant_data[species][0]['mature_radius'])\n",
    "        self.days_to_mature = int(plant_data[species][0]['days_to_mature'])\n",
    "        self.color = tuple(colors[species])\n",
    "        self.alive = 1\n",
    "        self.water = int(plant_data[species][0]['H_water_freq']) / 2 # water is measured in hours\n",
    "        \n",
    "    # time is measured in days\n",
    "    def get_radius(self, dt):\n",
    "        if dt < self.days_to_mature:\n",
    "            return self.mature_radius * (dt / self.days_to_mature)\n",
    "        if dt > self.days_to_mature + 5: # has a 5 day ripe period\n",
    "            self.alive = 0\n",
    "            dead_radius = 0.55 * self.mature_radius\n",
    "            \n",
    "            decay_factor = math.exp(-0.2 * (dt - self.days_to_mature - 5))\n",
    "            decayed_radius = self.mature_radius * decay_factor\n",
    "            return max(decayed_radius, dead_radius)\n",
    "        return self.mature_radius\n",
    "        \n",
    "    def overlap_area(self, map):\n",
    "        return 0\n",
    "\n",
    "\n",
    "    def get_health(self):\n",
    "        score = 1\n",
    "        if (self.water < 0): score += 0.006 * (self.water / self.water_freq)\n",
    "        if (self.overlap_area(map) > 0): score -= 0.5 * (self.overlap_area(map) / (self.mature_radius ** 2 * math.pi))\n",
    "        return score\n",
    "        \n",
    "    def get_color(self):\n",
    "        if self.get_health() < 0:\n",
    "            return [0, 0, 0]\n",
    "        return self.color * self.get_health()\n",
    "    \n",
    "    def get_circle_object(self, dt):\n",
    "        radius = self.get_radius(dt)\n",
    "        color = self.get_color()\n",
    "        return plt.Circle(self.species, radius=radius, color=color)\n",
    "        \n",
    "    "
   ]
  },
  {
   "cell_type": "code",
   "execution_count": 65,
   "metadata": {},
   "outputs": [],
   "source": [
    "bokbok = Plant('bok_choy')"
   ]
  },
  {
   "cell_type": "code",
   "execution_count": 66,
   "metadata": {},
   "outputs": [
    {
     "name": "stdout",
     "output_type": "stream",
     "text": [
      "0.96875\n",
      "0.96875\n",
      "0.96875\n",
      "0.96875\n",
      "0.96875\n",
      "0.96875\n",
      "0.96875\n",
      "0.96875\n",
      "0.96875\n",
      "0.96875\n"
     ]
    }
   ],
   "source": [
    "for i in range(10):\n",
    "    print(bokbok.get_health())"
   ]
  },
  {
   "cell_type": "code",
   "execution_count": 9,
   "metadata": {},
   "outputs": [
    {
     "data": {
      "image/png": "[encoded data removed]",
      "text/plain": [
       "<Figure size 640x480 with 1 Axes>"
      ]
     },
     "metadata": {},
     "output_type": "display_data"
    }
   ],
   "source": [
    "state = {\n",
    "    'plant1': [\"radish\", (5, 5), 2, 10],\n",
    "    'plant2': [\"bok_choy\", (8, 2), 3, 10]\n",
    "}\n",
    "colors = {\n",
    "    \"radish\": \"green\",\n",
    "    \"bok_choy\": \"blue\"\n",
    "    }\n",
    "fig, ax = plt.subplots()\n",
    "for k in state.keys():\n",
    "    ax.add_patch(plt.Circle(state[k][1], radius=state[k][2], color=colors[state[k][0]]))\n",
    "\n",
    "\n",
    "ax.set_xlim([0, 20])\n",
    "ax.set_ylim([0, 15])\n",
    "# circle1 = plt.Circle((0, 0.25), 0.2, color='green')\n",
    "# circle2 = plt.Circle((1, 0.5), 0.2, color='blue')\n",
    "\n",
    "# ax.add_patch(circle1)\n",
    "# ax.add_patch(circle2)\n",
    "\n",
    "fig.savefig('firstplot.png')\n",
    "\n"
   ]
  },
  {
   "cell_type": "code",
   "execution_count": 40,
   "metadata": {},
   "outputs": [],
   "source": [
    "import matplotlib.pyplot as plt\n",
    "from matplotlib.patches import Circle, Ellipse\n"
   ]
  }
 ],
 "metadata": {
  "kernelspec": {
   "display_name": "general",
   "language": "python",
   "name": "python3"
  },
  "language_info": {
   "codemirror_mode": {
    "name": "ipython",
    "version": 3
   },
   "file_extension": ".py",
   "mimetype": "text/x-python",
   "name": "python",
   "nbconvert_exporter": "python",
   "pygments_lexer": "ipython3",
   "version": "3.10.11"
  },
  "orig_nbformat": 4
 },
 "nbformat": 4,
 "nbformat_minor": 2
}
