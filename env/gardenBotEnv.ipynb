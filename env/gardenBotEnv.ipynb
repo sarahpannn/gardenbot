{
 "cells": [
  {
   "cell_type": "code",
   "execution_count": 58,
   "metadata": {},
   "outputs": [],
   "source": [
    "import gym\n",
    "import matplotlib.pyplot as plt\n",
    "from gym.wrappers import RecordVideo\n",
    "from gym import spaces\n",
    "import json"
   ]
  },
  {
   "cell_type": "code",
   "execution_count": null,
   "metadata": {},
   "outputs": [],
   "source": [
    "class GardenEnv(gym.Env):\n",
    "    def __init__(self, box_size, crop_data):\n",
    "        super().__init__()\n",
    "        self.t = 0\n",
    "        self.box_size = box_size\n",
    "        self.crop_data = crop_data\n",
    "        self.actions = ['plant', 'water', 'abstain', 'notify']\n",
    "        \n",
    "        with open('../data/render_colors.json') as json_file:\n",
    "            colors = json.load(json_file)\n",
    "        self.colors = colors\n",
    "        \n",
    "    def step(self, action):\n",
    "        self.t += 1\n",
    "        \"\"\" Takes a step with given action and returns the resulting environment.\n",
    "        Args:\n",
    "            action: int \n",
    "            \n",
    "        Returns:\n",
    "            env: state_dict: {\n",
    "                    plant1: [type, location, radius, water_status],\n",
    "                    plant2: [type, location, radius, water_status],\n",
    "                    ...\n",
    "                }\n",
    "        \"\"\"\n",
    "        return env\n",
    "    \n",
    "    def reset(self):\n",
    "        self.t = 0\n",
    "        return 0\n",
    "    \n",
    "    def render(self, mode='human', state):\n",
    "        if (mode=='human'):\n",
    "            human_render(state)\n",
    "        else:\n",
    "            return machine_render(state)\n",
    "            \n",
    "    def human_render(self, state):\n",
    "        fig, ax = plt.subplots()\n",
    "        ax.set_xlim = self.box_size[0]\n",
    "        ax.set_ylim = self.box_size[1]\n",
    "        for plant in state.keys():\n",
    "            ax.add_patch(plt.Circle(state[k][1], radius=state[k][2], color=self.colors[state[k][0]]))\n",
    "        fig.savefig(f'env_at_time_{self.t}.png')\n",
    "    \n",
    "    def machine_render(self, state):\n",
    "        return 0\n",
    "            "
   ]
  },
  {
   "cell_type": "code",
   "execution_count": null,
   "metadata": {},
   "outputs": [],
   "source": []
  },
  {
   "cell_type": "code",
   "execution_count": 57,
   "metadata": {},
   "outputs": [
    {
     "data": {
      "image/png": "[encoded data removed]",
      "text/plain": [
       "<Figure size 640x480 with 1 Axes>"
      ]
     },
     "metadata": {},
     "output_type": "display_data"
    }
   ],
   "source": [
    "state = {\n",
    "    'plant1': [\"radish\", (3, 5), 2, 10],\n",
    "    'plant2': [\"bok_choy\", (8, 2), 3, 10]\n",
    "}\n",
    "colors = {\n",
    "    \"radish\": \"green\",\n",
    "    \"bok_choy\": \"blue\"\n",
    "    }\n",
    "fig, ax = plt.subplots()\n",
    "for k in state.keys():\n",
    "    ax.add_patch(plt.Circle(state[k][1], radius=state[k][2], color=colors[state[k][0]]))\n",
    "\n",
    "\n",
    "ax.set_xlim([0, 20])\n",
    "ax.set_ylim([0, 15])\n",
    "# circle1 = plt.Circle((0, 0.25), 0.2, color='green')\n",
    "# circle2 = plt.Circle((1, 0.5), 0.2, color='blue')\n",
    "\n",
    "# ax.add_patch(circle1)\n",
    "# ax.add_patch(circle2)\n",
    "\n",
    "fig.savefig('firstplot.png')\n",
    "\n"
   ]
  },
  {
   "cell_type": "code",
   "execution_count": 40,
   "metadata": {},
   "outputs": [],
   "source": [
    "import matplotlib.pyplot as plt\n",
    "from matplotlib.patches import Circle, Ellipse\n"
   ]
  }
 ],
 "metadata": {
  "kernelspec": {
   "display_name": "general",
   "language": "python",
   "name": "python3"
  },
  "language_info": {
   "codemirror_mode": {
    "name": "ipython",
    "version": 3
   },
   "file_extension": ".py",
   "mimetype": "text/x-python",
   "name": "python",
   "nbconvert_exporter": "python",
   "pygments_lexer": "ipython3",
   "version": "3.10.9"
  },
  "orig_nbformat": 4
 },
 "nbformat": 4,
 "nbformat_minor": 2
}
