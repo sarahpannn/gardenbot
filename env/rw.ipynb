{
 "cells": [
  {
   "attachments": {},
   "cell_type": "markdown",
   "metadata": {},
   "source": [
    "The environment can provide a variety of rewards to guide the bot's decision-making process and encourage desired behaviors. For instance, positive rewards can be given when the bot successfully identifies and removes weeds, waters the plants optimally, or performs efficient soil nutrient management. Rewards can also be tied to achieving specific gardening goals, such as promoting healthy plant growth, maximizing crop yield, or maintaining an aesthetically pleasing garden layout. On the other hand, negative rewards or penalties can be assigned when the bot damages plants, fails to address plant diseases promptly, or exhibits inefficient resource utilization. By designing a reward system that aligns with the goals of gardening, the autonomous bot can learn to navigate the environment, adapt its actions, and develop effective gardening strategies that lead to a flourishing garden ecosystem."
   ]
  },
  {
   "attachments": {},
   "cell_type": "markdown",
   "metadata": {},
   "source": [
    "## TLDR\n",
    "\n",
    "* The game: We want our robot to learn to garden (with a number of additional constraints)\n",
    "* The problem: We can't just have our robot flail around and try everything until it somehow stumbles upon the optimal solution\n",
    "* The solution: We create a method with which to evaluate the current environment\n",
    "* The analogy: In chess, there are many ways to evaluate the board long before either opponent wins. This reward function does that but for gardening.\n",
    "* A potential confusion: This is different from the value produced by the critic model. The reward here is produced by the environment and is non-changing, objective, whatever makes the most sense. The value produced by the critic model is gradient based and is analogous to the chess player's brain. It gets better by practice and evaluates its current chess playing method to eventually maximize the reward provided by the environment."
   ]
  },
  {
   "attachments": {},
   "cell_type": "markdown",
   "metadata": {},
   "source": [
    "## A potential recipe\n",
    "\n",
    "note: this would be relevant for the simulation; we'd develop a new one for the actual thing\n",
    "\n",
    "    1. Legality of state:\n",
    "        - x for x overlapping area\n",
    "    \n",
    "    2. Conservation of water:\n",
    "        -1 for each water used\n",
    "        \n",
    "    3. Diversity of garden:\n",
    "        + x for x > 2 plant species\n",
    "        0 for 2 species\n",
    "        - x for x < 2 plant species\n",
    "    \n",
    "    4. Density of garden\n",
    "        +% for %density > 75\n",
    "        -% for %density < 75\n",
    "\n",
    "    5. Health\n",
    "        penalty for dying plants"
   ]
  },
  {
   "cell_type": "code",
   "execution_count": null,
   "metadata": {},
   "outputs": [],
   "source": [
    "from util_bs.quadtree import *"
   ]
  },
  {
   "cell_type": "code",
   "execution_count": null,
   "metadata": {},
   "outputs": [],
   "source": [
    "class reward():\n",
    "    def __init__(self, discount, environment):\n",
    "        self.discount = discount\n",
    "        self.environment = environment # this will be in the form of a state dict\n",
    "        \n",
    "        \n",
    "    def get_legality_score(self):\n",
    "        qt_nodes = []\n",
    "        for plant in self.environment[\"plants\"]:\n",
    "            qt_nodes.append(QuadTreeNode(plant.x_coord - plant.radius, \n",
    "                                         plant.y_coord - plant.radius, \n",
    "                                         plant.x_coord + plant.radius, \n",
    "                                         plant.y_coord + plant.radius))\n",
    "        return 0\n",
    "    \n",
    "    \n",
    "    def get_composite_score(self):\n",
    "        # calculate a reward in the range -1 to 1\n",
    "        return 0\n"
   ]
  }
 ],
 "metadata": {
  "language_info": {
   "name": "python"
  },
  "orig_nbformat": 4
 },
 "nbformat": 4,
 "nbformat_minor": 2
}
