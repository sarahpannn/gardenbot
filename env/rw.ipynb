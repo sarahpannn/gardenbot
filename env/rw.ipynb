{
 "cells": [
  {
   "attachments": {},
   "cell_type": "markdown",
   "metadata": {},
   "source": [
    "The reward function class generates an instantaneous reward given a \n",
    "    particular state based on the following parameters\n",
    "    \n",
    "    1. Legality of state:\n",
    "        - x for x overlaps\n",
    "    \n",
    "    2. Conservation of water:\n",
    "        - for each water used\n",
    "        \n",
    "    3. Diversity of garden:\n",
    "        + x for x > 3 plant species\n",
    "        0 for 3 species\n",
    "        - x for x < 3 plant species\n",
    "    \n",
    "    4. Density of garden\n",
    "        +% for %density > 75\n",
    "        -% for %density < 75"
   ]
  },
  {
   "attachments": {},
   "cell_type": "markdown",
   "metadata": {},
   "source": [
    "fuhewufewhfewiuhf"
   ]
  },
  {
   "cell_type": "code",
   "execution_count": null,
   "metadata": {},
   "outputs": [],
   "source": [
    "class reward():\n",
    "    def __init__(self, discount):\n",
    "        self.discount = discount\n",
    "        \n",
    "    def legality(self, state):\n",
    "        return 0\n",
    "    \n",
    "    def water(self, action):\n",
    "        return 0\n",
    "    \n",
    "    def diversity(self, state):\n",
    "        return 0\n",
    "    \n",
    "    def density(self, state):\n",
    "        return 0\n",
    "    \n",
    "    def get_reward(self, state, action):\n",
    "        p1 = self.legality(state)\n",
    "        p2 = self.water(action)\n",
    "        p3 = self.diversity(state)\n",
    "        p4 = self.density(state)\n",
    "        \n",
    "        return p1 + p2 + p3 + p4"
   ]
  }
 ],
 "metadata": {
  "language_info": {
   "name": "python"
  },
  "orig_nbformat": 4
 },
 "nbformat": 4,
 "nbformat_minor": 2
}
