{
 "cells": [
  {
   "attachments": {},
   "cell_type": "markdown",
   "metadata": {},
   "source": [
    "### For reference later <3\n",
    "\n",
    "        # self.actions = {\n",
    "        #     \"water\": -1,\n",
    "        #     \"sow_seed\": 1,\n",
    "        #     \"measure_soil_moisture\": 0,\n",
    "        #     \"take_photo\": 0,\n",
    "        #     \"suppress_weed\": 1\n",
    "        # }>"
   ]
  },
  {
   "cell_type": "code",
   "execution_count": 7,
   "metadata": {},
   "outputs": [],
   "source": [
    "import torch\n",
    "import torch.nn as nn\n",
    "\n",
    "import torchvision.models as models\n",
    "\n",
    "from torchvision import transforms"
   ]
  },
  {
   "cell_type": "code",
   "execution_count": 6,
   "metadata": {},
   "outputs": [],
   "source": [
    "\n",
    "class Actor(nn.Module):\n",
    "    def __init__(self, hidden_size):\n",
    "        self.hidden_size = hidden_size\n",
    "        self.bb = nn.Sequential(\n",
    "            *(list(models.resnet18(pretrained=True).children())[:-1])\n",
    "        )\n",
    "        self.ch = nn.Sequential(\n",
    "            nn.Linear(512, 512),\n",
    "            nn.Linear(512, 131072),\n",
    "            nn.Dropout(0.2)\n",
    "        )\n",
    "    \n",
    "    def forward(self, input_image):\n",
    "        logits = self.bb(input_image)\n",
    "        logits = self.ch(logits)\n",
    "        return logits"
   ]
  },
  {
   "cell_type": "code",
   "execution_count": 8,
   "metadata": {},
   "outputs": [],
   "source": [
    "class Critic(nn.Module):\n",
    "    def __init__(self, hidden_size):\n",
    "        self.hidden_size = hidden_size\n",
    "        self.bb = nn.Sequential(\n",
    "            *(list(models.resnet18(pretrained=True).children())[:-1])\n",
    "        )\n",
    "        self.ch = nn.Sequential(\n",
    "            nn.Linear(512, self.hidden_size),\n",
    "            nn.Linear(self.hidden_size, 1),\n",
    "            nn.Dropout(0.2)\n",
    "        )\n",
    "        \n",
    "    def forward(self, input_image):\n",
    "        logits = self.bb(input_image)\n",
    "        logits  = self.ch(logits)\n",
    "        return logits"
   ]
  },
  {
   "cell_type": "code",
   "execution_count": 9,
   "metadata": {},
   "outputs": [],
   "source": [
    "class ActorCritic(nn.Module):\n",
    "    def __init__(self, actor_hidden_size, critic_hidden_size):\n",
    "        super().__init__()\n",
    "        self.actor_hidden_size = actor_hidden_size\n",
    "        self.critic_hidden_size = critic_hidden_size\n",
    "\n",
    "        self.Actor = Actor(self.actor_hidden_size)\n",
    "        self.Critic = Critic(self.critic_hidden_size)\n",
    "        \n",
    "    def forward(self, state):\n",
    "        actor_policy = self.Actor(state)\n",
    "        critic_score = self.Critic(state)\n",
    "        return actor_policy, critic_score"
   ]
  }
 ],
 "metadata": {
  "kernelspec": {
   "display_name": "general",
   "language": "python",
   "name": "python3"
  },
  "language_info": {
   "codemirror_mode": {
    "name": "ipython",
    "version": 3
   },
   "file_extension": ".py",
   "mimetype": "text/x-python",
   "name": "python",
   "nbconvert_exporter": "python",
   "pygments_lexer": "ipython3",
   "version": "3.7.16"
  },
  "orig_nbformat": 4
 },
 "nbformat": 4,
 "nbformat_minor": 2
}
